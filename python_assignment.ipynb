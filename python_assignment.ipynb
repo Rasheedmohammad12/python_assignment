{
  "cells": [
    {
      "cell_type": "markdown",
      "metadata": {
        "id": "wuim_i5YTTld"
      },
      "source": [
        "## Exercises\n",
        "\n",
        "Answer the questions or complete the tasks outlined in bold below, use the specific method described if applicable."
      ]
    },
    {
      "cell_type": "markdown",
      "metadata": {
        "id": "ySFfi3KDTTlg"
      },
      "source": [
        "** What is 7 to the power of 4?**"
      ]
    },
    {
      "cell_type": "code",
      "execution_count": 1,
      "metadata": {
        "id": "Of_S2D2VTTlh",
        "outputId": "ac9678e7-f34d-4372-9c29-5698dbc8b68b",
        "colab": {
          "base_uri": "https://localhost:8080/"
        }
      },
      "outputs": [
        {
          "output_type": "stream",
          "name": "stdout",
          "text": [
            "2401\n"
          ]
        }
      ],
      "source": [
        "result = 7**4\n",
        "print(result)"
      ]
    },
    {
      "cell_type": "markdown",
      "metadata": {
        "id": "LP314kEATTlh"
      },
      "source": [
        "** Split this string:**\n",
        "\n",
        "    s = \"Hi there Sam!\"\n",
        "    \n",
        "**into a list. **"
      ]
    },
    {
      "cell_type": "code",
      "execution_count": 3,
      "metadata": {
        "collapsed": true,
        "id": "VXFzKFQuTTli",
        "outputId": "06683870-4be4-43ce-8fe5-fe5ef06a8a4c",
        "colab": {
          "base_uri": "https://localhost:8080/"
        }
      },
      "outputs": [
        {
          "output_type": "stream",
          "name": "stdout",
          "text": [
            "['Hi', 'there', 'Sam!']\n"
          ]
        }
      ],
      "source": [
        "s = \"Hi there Sam!\"\n",
        "ras_list = s.split()\n",
        "print(ras_list)"
      ]
    },
    {
      "cell_type": "markdown",
      "metadata": {
        "id": "HoWw22TWTTli"
      },
      "source": [
        "** Given the variables:**\n",
        "\n",
        "    planet = \"Earth\"\n",
        "    diameter = 12742\n",
        "\n",
        "** Use .format() to print the following string: **\n",
        "\n",
        "    The diameter of Earth is 12742 kilometers."
      ]
    },
    {
      "cell_type": "code",
      "execution_count": 15,
      "metadata": {
        "collapsed": true,
        "id": "SxbJFBkWTTli"
      },
      "outputs": [],
      "source": [
        "planet = \"Earth\"\n",
        "diameter = 12742"
      ]
    },
    {
      "cell_type": "code",
      "execution_count": 16,
      "metadata": {
        "id": "frpCfC-rTTlj",
        "outputId": "a95e2092-795a-4662-a75c-8a8bf2a418c8",
        "colab": {
          "base_uri": "https://localhost:8080/"
        }
      },
      "outputs": [
        {
          "output_type": "stream",
          "name": "stdout",
          "text": [
            "The  Earth  has a diameter of 12742 kilometers.\n"
          ]
        }
      ],
      "source": [
        "planet = \" Earth \"\n",
        "diameter = 12742\n",
        "\n",
        "rass = f\"The {planet} has a diameter of {diameter} kilometers.\"\n",
        "\n",
        "print(rass)"
      ]
    },
    {
      "cell_type": "markdown",
      "metadata": {
        "id": "5w6_VS31TTlj"
      },
      "source": [
        "** Given this nested list, use indexing to grab the word \"hello\" **"
      ]
    },
    {
      "cell_type": "code",
      "execution_count": 5,
      "metadata": {
        "collapsed": true,
        "id": "-ln1ZfrLTTlk",
        "outputId": "9611da58-ed44-4199-b1a8-936fb5da9f8e",
        "colab": {
          "base_uri": "https://localhost:8080/"
        }
      },
      "outputs": [
        {
          "output_type": "stream",
          "name": "stdout",
          "text": [
            "hello\n"
          ]
        }
      ],
      "source": [
        "lst = [1,2,[3,4],[5,[100,200,['hello']],23,11],1,7]\n",
        "\n",
        "rra = lst[3][1][2][0]\n",
        "print(rra)"
      ]
    },
    {
      "cell_type": "code",
      "execution_count": null,
      "metadata": {
        "id": "EelxsXvpTTlk",
        "outputId": "85674c83-6e86-4551-c822-28b5fc7d4bf9"
      },
      "outputs": [
        {
          "data": {
            "text/plain": [
              "'hello'"
            ]
          },
          "execution_count": 14,
          "metadata": {},
          "output_type": "execute_result"
        }
      ],
      "source": []
    },
    {
      "cell_type": "markdown",
      "metadata": {
        "id": "ASv2c82vTTlk"
      },
      "source": [
        "** Given this nested dictionary grab the word \"hello\". Be prepared, this will\n",
        "\n",
        "*   List item\n",
        "\n",
        "*   List item\n",
        "*   List item\n",
        "\n",
        "\n",
        "*   List item\n",
        "\n",
        "be annoying/tricky **"
      ]
    },
    {
      "cell_type": "code",
      "execution_count": 1,
      "metadata": {
        "id": "IeIa2QZCTTlk",
        "outputId": "ab88e25f-ec1b-477e-f767-6cb2f32ea198",
        "colab": {
          "base_uri": "https://localhost:8080/"
        }
      },
      "outputs": [
        {
          "output_type": "stream",
          "name": "stdout",
          "text": [
            "hello\n"
          ]
        }
      ],
      "source": [
        "d = {'k1':[1,2,3,{'tricky':['oh','man','inception',{'target':[1,2,3,'hello']}]}]}\n",
        "\n",
        "hello = d['k1'][3]['tricky'][3]['target'][3]\n",
        "print(hello)"
      ]
    },
    {
      "cell_type": "code",
      "execution_count": null,
      "metadata": {
        "id": "uK9j6KIaTTlk",
        "outputId": "35976d24-6312-4e63-9a89-d1223e30fc07"
      },
      "outputs": [
        {
          "data": {
            "text/plain": [
              "'hello'"
            ]
          },
          "execution_count": 22,
          "metadata": {},
          "output_type": "execute_result"
        }
      ],
      "source": []
    },
    {
      "cell_type": "markdown",
      "metadata": {
        "id": "sbuetxiJTTll"
      },
      "source": [
        "** What is the main difference between a tuple and a list? **"
      ]
    },
    {
      "cell_type": "code",
      "execution_count": null,
      "metadata": {
        "collapsed": true,
        "id": "bKwwZXw9TTll"
      },
      "outputs": [],
      "source": [
        "# Tuple is immutable\n",
        "\n",
        "#Tuple: Tuples are immutable, which means once you create a tuple, you cannot change its content. Tuples are fixed in size, and you cannot add, remove, or modify elements in a tuple.\n",
        "# List: Lists are mutable, which means you can add, remove, or change elements in a list after it's created. You can modify the content of a list"
      ]
    },
    {
      "cell_type": "markdown",
      "metadata": {
        "id": "KJfMeZJxTTll"
      },
      "source": [
        "** Create a function that grabs the email website domain from a string in the form: **\n",
        "\n",
        "    user@domain.com\n",
        "    \n",
        "**So for example, passing \"user@domain.com\" would return: domain.com**"
      ]
    },
    {
      "cell_type": "code",
      "execution_count": 20,
      "metadata": {
        "id": "ud4rq4DkTTll",
        "outputId": "74b38c2a-9da3-4e8d-8bf0-71f089b13ff0",
        "colab": {
          "base_uri": "https://localhost:8080/"
        }
      },
      "outputs": [
        {
          "output_type": "stream",
          "name": "stdout",
          "text": [
            "Email domain: domain.com\n"
          ]
        }
      ],
      "source": [
        "domainGet= ('user@domain.com')\n",
        "\n",
        "def domainGet(email):\n",
        "    parts = email.split(\"@\")\n",
        "\n",
        "    if len(parts) == 2:\n",
        "        return parts[1]\n",
        "    else:\n",
        "        return None\n",
        "\n",
        "email = \"user@domain.com\"\n",
        "domain = domainGet(email)\n",
        "if domain:\n",
        "    print(\"Email domain:\", domain)\n",
        "else:\n",
        "    print(\"Invalid email format\")"
      ]
    },
    {
      "cell_type": "markdown",
      "metadata": {
        "id": "juVdQIHeTTll"
      },
      "source": [
        "** Create a basic function that returns True if the word 'dog' is contained in the input string. Don't worry about edge cases like a punctuation being attached to the word dog, but do account for capitalization. **"
      ]
    },
    {
      "cell_type": "code",
      "execution_count": null,
      "metadata": {
        "collapsed": true,
        "id": "e8MRLTvDTTll"
      },
      "outputs": [],
      "source": []
    },
    {
      "cell_type": "code",
      "execution_count": 4,
      "metadata": {
        "id": "1XGINf7JTTlm",
        "outputId": "815cc7c8-c8c9-4e6e-efe5-dea82efb033a",
        "colab": {
          "base_uri": "https://localhost:8080/"
        }
      },
      "outputs": [
        {
          "output_type": "stream",
          "name": "stdout",
          "text": [
            "Ture\n"
          ]
        }
      ],
      "source": [
        "findDog = ('Is there a dog here?')\n",
        "\n",
        "def rr_dog(input_ss):\n",
        "  return 'dog' in input_ss.lower()\n",
        "input_ss = \"I have  a Dog at home.\"\n",
        "if rr_dog(input_ss):\n",
        "  print(\"Ture\")\n",
        "else:\n",
        "  print(\"false\")\n"
      ]
    },
    {
      "cell_type": "markdown",
      "metadata": {
        "id": "ypiAeepYTTlm"
      },
      "source": [
        "** Create a function that counts the number of times the word \"dog\" occurs in a string. Again ignore edge cases. **"
      ]
    },
    {
      "cell_type": "code",
      "execution_count": 1,
      "metadata": {
        "id": "6J9GpozgTTlm",
        "outputId": "40615c69-babf-4205-8f6f-e0db8d7ba226",
        "colab": {
          "base_uri": "https://localhost:8080/"
        }
      },
      "outputs": [
        {
          "output_type": "stream",
          "name": "stdout",
          "text": [
            "The word 'dog' appears 2 times in the input string.\n"
          ]
        }
      ],
      "source": [
        "def countDog(input_string):\n",
        "    # Convert the input string to lowercase and count the occurrences of 'dog'\n",
        "    return input_string.lower().count('dog')\n",
        "\n",
        "# Example usage\n",
        "input_string = 'This dog runs faster than the other dog dude!'\n",
        "count = countDog(input_string)\n",
        "print(\"The word 'dog' appears\", count, \"times in the input string.\")"
      ]
    },
    {
      "cell_type": "code",
      "execution_count": null,
      "metadata": {
        "id": "8tFLK4Z9TTlm",
        "outputId": "cdbaa612-a60c-4842-908c-0cf25129cbd3"
      },
      "outputs": [
        {
          "data": {
            "text/plain": [
              "2"
            ]
          },
          "execution_count": 31,
          "metadata": {},
          "output_type": "execute_result"
        }
      ],
      "source": [
        "countDog('This dog runs faster than the other dog dude!')"
      ]
    },
    {
      "cell_type": "markdown",
      "metadata": {
        "id": "Jm92dpORTTlm"
      },
      "source": [
        "** Use lambda expressions and the filter() function to filter out words from a list that don't start with the letter 's'. For example:**\n",
        "\n",
        "    seq = ['soup','dog','salad','cat','great']\n",
        "\n",
        "**should be filtered down to:**\n",
        "\n",
        "    ['soup','salad']"
      ]
    },
    {
      "cell_type": "code",
      "execution_count": 5,
      "metadata": {
        "collapsed": true,
        "id": "894AcPBHTTlm",
        "outputId": "a236ac65-a1d3-4fce-8103-91396b5c9c34",
        "colab": {
          "base_uri": "https://localhost:8080/"
        }
      },
      "outputs": [
        {
          "output_type": "stream",
          "name": "stdout",
          "text": [
            "['soup', 'salad']\n"
          ]
        }
      ],
      "source": [
        "seq = ['soup','dog','salad','cat','great']\n",
        "\n",
        "ll_rr = list(filter(lambda rr: rr[0] == 's', seq))\n",
        "print(ll_rr)"
      ]
    },
    {
      "cell_type": "markdown",
      "metadata": {
        "id": "5vJi9xemTTlm"
      },
      "source": [
        "### Final Problem\n",
        "**You are driving a little too fast, and a police officer stops you. Write a function\n",
        "  to return one of 3 possible results: \"No ticket\", \"Small ticket\", or \"Big Ticket\".\n",
        "  If your speed is 60 or less, the result is \"No Ticket\". If speed is between 61\n",
        "  and 80 inclusive, the result is \"Small Ticket\". If speed is 81 or more, the result is \"Big    Ticket\". Unless it is your birthday (encoded as a boolean value in the parameters of the function) -- on your birthday, your speed can be 5 higher in all\n",
        "  cases. **"
      ]
    },
    {
      "cell_type": "code",
      "execution_count": 2,
      "metadata": {
        "collapsed": true,
        "id": "ZbUHfEMgTTlm",
        "outputId": "74b24db1-8587-467e-f13b-e766ca30922b",
        "colab": {
          "base_uri": "https://localhost:8080/"
        }
      },
      "outputs": [
        {
          "output_type": "stream",
          "name": "stdout",
          "text": [
            "Result: Small Ticket\n"
          ]
        }
      ],
      "source": [
        "def caught_speeding(speed, is_birthday):\n",
        "    no_ticket_limit = 60 if not is_birthday else 65\n",
        "    small_ticket_limit = 80 if not is_birthday else 85\n",
        "    if speed <= no_ticket_limit:\n",
        "        return \"No Ticket\"\n",
        "    elif no_ticket_limit < speed <= small_ticket_limit:\n",
        "        return \"Small Ticket\"\n",
        "    else:\n",
        "        return \"Big Ticket\"\n",
        "speed = 70\n",
        "is_birthday = False\n",
        "result = caught_speeding(speed, is_birthday)\n",
        "print(\"Result:\", result)\n",
        ""
      ]
    },
    {
      "cell_type": "code",
      "execution_count": null,
      "metadata": {
        "id": "w5cCU0ECTTln",
        "outputId": "5e4dd2a6-7aeb-40bc-9504-bfb5eed0946b"
      },
      "outputs": [
        {
          "data": {
            "text/plain": [
              "'Small Ticket'"
            ]
          },
          "execution_count": 42,
          "metadata": {},
          "output_type": "execute_result"
        }
      ],
      "source": [
        "caught_speeding(81,True"
      ]
    },
    {
      "cell_type": "code",
      "execution_count": null,
      "metadata": {
        "id": "lArAkK60TTln",
        "outputId": "77286716-14df-460d-fed8-faeea157bafa"
      },
      "outputs": [
        {
          "data": {
            "text/plain": [
              "'Big Ticket'"
            ]
          },
          "execution_count": 43,
          "metadata": {},
          "output_type": "execute_result"
        }
      ],
      "source": [
        "caught_speeding(81,False)"
      ]
    },
    {
      "cell_type": "markdown",
      "metadata": {
        "id": "eCzwBlrOTTln"
      },
      "source": [
        "# Great job!"
      ]
    }
  ],
  "metadata": {
    "kernelspec": {
      "display_name": "Python 3",
      "language": "python",
      "name": "python3"
    },
    "language_info": {
      "codemirror_mode": {
        "name": "ipython",
        "version": 3
      },
      "file_extension": ".py",
      "mimetype": "text/x-python",
      "name": "python",
      "nbconvert_exporter": "python",
      "pygments_lexer": "ipython3",
      "version": "3.6.2"
    },
    "colab": {
      "provenance": []
    }
  },
  "nbformat": 4,
  "nbformat_minor": 0
}